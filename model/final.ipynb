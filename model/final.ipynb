{
  "nbformat": 4,
  "nbformat_minor": 0,
  "metadata": {
    "colab": {
      "name": "Untitled5.ipynb",
      "provenance": [],
      "collapsed_sections": [],
      "toc_visible": true
    },
    "kernelspec": {
      "name": "python3",
      "display_name": "Python 3"
    }
  },
  "cells": [
    {
      "cell_type": "code",
      "metadata": {
        "id": "Slc7tSEwUaOV",
        "colab_type": "code",
        "colab": {
          "base_uri": "https://localhost:8080/",
          "height": 34
        },
        "outputId": "47593084-06db-4a58-cc82-0694b3b8dfc7"
      },
      "source": [
        "from keras.models import Sequential\n",
        "from keras.layers import Dense\n",
        "import numpy as np"
      ],
      "execution_count": 1,
      "outputs": [
        {
          "output_type": "stream",
          "text": [
            "Using TensorFlow backend.\n"
          ],
          "name": "stderr"
        }
      ]
    },
    {
      "cell_type": "code",
      "metadata": {
        "id": "n7MoMKhn-juF",
        "colab_type": "code",
        "colab": {}
      },
      "source": [
        "model = Sequential()\n",
        "model.add(Dense(1, input_dim=6, activation='relu'))\n",
        "model.add(Dense(5, activation='softmax'))"
      ],
      "execution_count": 2,
      "outputs": []
    },
    {
      "cell_type": "code",
      "metadata": {
        "id": "KROLDzPhUMzJ",
        "colab_type": "code",
        "colab": {}
      },
      "source": [
        "model.compile(loss='binary_crossentropy', optimizer='adam', metrics=['accuracy'])"
      ],
      "execution_count": 3,
      "outputs": []
    },
    {
      "cell_type": "code",
      "metadata": {
        "id": "lsIx9ntbUg61",
        "colab_type": "code",
        "colab": {
          "base_uri": "https://localhost:8080/",
          "height": 218
        },
        "outputId": "ec794ea1-953a-4dd4-a860-df506d2da052"
      },
      "source": [
        "model.summary()"
      ],
      "execution_count": 4,
      "outputs": [
        {
          "output_type": "stream",
          "text": [
            "Model: \"sequential_1\"\n",
            "_________________________________________________________________\n",
            "Layer (type)                 Output Shape              Param #   \n",
            "=================================================================\n",
            "dense_1 (Dense)              (None, 1)                 7         \n",
            "_________________________________________________________________\n",
            "dense_2 (Dense)              (None, 5)                 10        \n",
            "=================================================================\n",
            "Total params: 17\n",
            "Trainable params: 17\n",
            "Non-trainable params: 0\n",
            "_________________________________________________________________\n"
          ],
          "name": "stdout"
        }
      ]
    },
    {
      "cell_type": "code",
      "metadata": {
        "id": "eiBTPzbQURQV",
        "colab_type": "code",
        "colab": {}
      },
      "source": [
        "model.fit()\n",
        "# Not supposed to run model because, for now we are filling weights randomly"
      ],
      "execution_count": null,
      "outputs": []
    },
    {
      "cell_type": "code",
      "metadata": {
        "id": "SDx-bfOc6G98",
        "colab_type": "code",
        "colab": {}
      },
      "source": [
        "#np.random.rand(18)"
      ],
      "execution_count": null,
      "outputs": []
    },
    {
      "cell_type": "code",
      "metadata": {
        "id": "PnGT18_EdZn4",
        "colab_type": "code",
        "colab": {}
      },
      "source": [
        "weights = [np.random.rand(*w.shape) for w in model.get_weights()]\n",
        "\n",
        "# update\n",
        "model.set_weights(weights)"
      ],
      "execution_count": 6,
      "outputs": []
    },
    {
      "cell_type": "code",
      "metadata": {
        "id": "VA_t1LHzeRaB",
        "colab_type": "code",
        "colab": {}
      },
      "source": [
        "for layer in model.layers:\n",
        "    weights = layer.get_weights() # list of numpy arrays"
      ],
      "execution_count": 8,
      "outputs": []
    },
    {
      "cell_type": "code",
      "metadata": {
        "id": "ltfl7zi3ezIL",
        "colab_type": "code",
        "colab": {
          "base_uri": "https://localhost:8080/",
          "height": 202
        },
        "outputId": "166ee739-aa50-42fb-b02f-85a2e495bfd7"
      },
      "source": [
        "weights = model.get_weights()\n",
        "weights\n",
        "#Here you can see randomized weights filled"
      ],
      "execution_count": 9,
      "outputs": [
        {
          "output_type": "execute_result",
          "data": {
            "text/plain": [
              "[array([[0.46623972],\n",
              "        [0.2432728 ],\n",
              "        [0.5263947 ],\n",
              "        [0.6143005 ],\n",
              "        [0.6665657 ],\n",
              "        [0.35109395]], dtype=float32),\n",
              " array([0.11996169], dtype=float32),\n",
              " array([[0.74564344, 0.87471837, 0.00663298, 0.18827769, 0.62516487]],\n",
              "       dtype=float32),\n",
              " array([0.11882559, 0.63776696, 0.77743006, 0.7974116 , 0.28238386],\n",
              "       dtype=float32)]"
            ]
          },
          "metadata": {
            "tags": []
          },
          "execution_count": 9
        }
      ]
    },
    {
      "cell_type": "code",
      "metadata": {
        "id": "Du8XX_xIeUhK",
        "colab_type": "code",
        "colab": {}
      },
      "source": [
        "#print(weights)"
      ],
      "execution_count": null,
      "outputs": []
    },
    {
      "cell_type": "code",
      "metadata": {
        "id": "YdbB7UoH21EK",
        "colab_type": "code",
        "colab": {}
      },
      "source": [
        "def disease(a):\n",
        "  if (a ==0):return \"Pepper__bell___Bacterial_spot\"\n",
        "  if (a ==1):return \"Pepper__bell___healthy\"\n",
        "  if (a ==2):return \"Potato___Early_blight\"\n",
        "  if (a ==3):return \"Potato___healthy\"\n",
        "  if (a ==4):return \"Potato___Late_blight\"\n",
        "  if (a ==5):return \"Tomato__Target_Spot\"\n",
        "  if (a ==6):return \"Tomato__Tomato_mosaic_virus\"\n",
        "  if (a ==7):return \"Tomato__Tomato_YellowLeaf__Curl_Virus\"\n",
        "  if (a ==8):return \"Tomato_Bacterial_spot\"\n",
        "  if (a ==8):return \"Tomato_Early_blight\"\n",
        "  if (a ==8):return \"Tomato_healthy\"\n",
        "  if (a ==8):return \"Tomato_Late_blight\"\n",
        "  if (a ==8):return \"Tomato_Leaf_Mold\"\n",
        "  if (a ==8):return \"Tomato_Septoria_leaf_spot\"\n",
        "  if (a ==8):return \"Tomato_Spider_mites_Two_spotted_spider_mite\"    \n",
        "\n",
        "  #for now instance we are just searching disease in pepper and potato\n",
        "  #Other catagories can easily be detected by changing model architecture\n"
      ],
      "execution_count": 12,
      "outputs": []
    },
    {
      "cell_type": "code",
      "metadata": {
        "id": "g2rDsUhyhUv-",
        "colab_type": "code",
        "colab": {
          "base_uri": "https://localhost:8080/",
          "height": 34
        },
        "outputId": "7886328d-b820-4a26-d0a1-ea519471ca6d"
      },
      "source": [
        "Xnew = np.array([np.random.rand(6)])   #here we will fetch data from api of pollution\n",
        "#\n",
        "# make a prediction\n",
        "ynew = model.predict_classes(Xnew)\n",
        "#ynew = model.predict(Xnew)\n",
        "# show the inputs and predicted outputs\n",
        "higest=np.where(ynew[0] == ynew[0].max())\n",
        "higest\n",
        "#print(\"X=%s, Predicted=%s\" % (Xnew[0], disease(higest[0][0])))\n",
        "print(\" Predicted Disease = %s\" % ( disease(higest[0][0])))"
      ],
      "execution_count": 13,
      "outputs": [
        {
          "output_type": "stream",
          "text": [
            " Predicted Disease = Pepper__bell___Bacterial_spot\n"
          ],
          "name": "stdout"
        }
      ]
    },
    {
      "cell_type": "code",
      "metadata": {
        "id": "uqJ7aYlrbG0E",
        "colab_type": "code",
        "colab": {}
      },
      "source": [
        "#This disease Detected is according to Updated model architecture\n",
        "#This includes searching of disease in perticular catagory, i.e. Pepper, Potato"
      ],
      "execution_count": null,
      "outputs": []
    }
  ]
}